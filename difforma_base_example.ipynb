{
 "cells": [
  {
   "cell_type": "markdown",
   "metadata": {},
   "source": [
    "## Initial setup"
   ]
  },
  {
   "cell_type": "code",
   "execution_count": null,
   "metadata": {},
   "outputs": [],
   "source": [
    "import numpy as np\n",
    "from scipy.interpolate import interp2d\n",
    "from scipy.interpolate import RectBivariateSpline\n",
    "\n",
    "import numba\n",
    "import matplotlib.pyplot as plt\n",
    "import time\n",
    "import os\n",
    "%matplotlib inline"
   ]
  },
  {
   "cell_type": "code",
   "execution_count": null,
   "metadata": {},
   "outputs": [],
   "source": [
    "def plot_warp(xphi, yphi, downsample='auto', **kwarg):\n",
    "    if (downsample == 'auto'):\n",
    "        skip = np.max([xphi.shape[0]/32,1])\n",
    "    elif (downsample == 'no'):\n",
    "        skip = 1\n",
    "    else:\n",
    "        skip = downsample\n",
    "    plt.plot(xphi[:,skip::skip],yphi[:,skip::skip],'black',\\\n",
    "             xphi[skip::skip,::1].T,yphi[skip::skip,::1].T,'black', **kwarg)\n",
    "\n",
    "def get_dir_name(I0name, I1name, sigma):\n",
    "    file_dir, file_name0 = os.path.split(I0name)\n",
    "    file_dir, file_name1 = os.path.split(I1name)\n",
    "    dir_name = os.path.join(file_dir, \n",
    "                        os.path.splitext(file_name1)[0] + \n",
    "                        ' to ' + os.path.splitext(file_name0)[0] + \n",
    "                        ' with sigma ' + str(sigma))\n",
    "    return dir_name\n",
    "    "
   ]
  },
  {
   "cell_type": "markdown",
   "metadata": {},
   "source": [
    "## Perform the function matching"
   ]
  },
  {
   "cell_type": "code",
   "execution_count": null,
   "metadata": {},
   "outputs": [],
   "source": [
    "import difforma_base\n",
    "import scipy.ndimage as ndimage"
   ]
  },
  {
   "cell_type": "code",
   "execution_count": null,
   "metadata": {},
   "outputs": [],
   "source": [
    "I0name = 'Example1 box/box_at_4th.png'\n",
    "I1name = 'Example1 box/box_at_2nd.png'\n",
    "\n",
    "\n",
    "# Parameter settings for inertia operator\n",
    "alpha = 0.001\n",
    "beta = 0.03\n",
    "\n",
    "sigma = 0.05   # the higher the sigma, the more regularization\n",
    "epsilon = 0.10  # step size\n",
    "n_iter = 490    # number of iterations\n",
    "\n",
    "I0 = plt.imread(I0name).astype('float')\n",
    "I1 = plt.imread(I1name).astype('float')\n",
    "\n",
    "# Apply Gaussian filter\n",
    "# I0 = ndimage.gaussian_filter(I0, sigma=6)\n",
    "# I1 = ndimage.gaussian_filter(I1, sigma=6)\n",
    "\n",
    "# Filter away pixels too dark\n",
    "# cutoff = 0.3\n",
    "# I0 = np.where(I0<cutoff,cutoff,I0)"
   ]
  },
  {
   "cell_type": "code",
   "execution_count": null,
   "metadata": {},
   "outputs": [],
   "source": [
    "dm = difforma_base.DiffeoFunctionMatching(source=I0, target=I1, alpha=alpha, beta=beta, sigma=sigma)"
   ]
  },
  {
   "cell_type": "code",
   "execution_count": null,
   "metadata": {
    "scrolled": true
   },
   "outputs": [],
   "source": [
    "%%time \n",
    "dm.run(n_iter, epsilon=epsilon)"
   ]
  },
  {
   "cell_type": "markdown",
   "metadata": {},
   "source": [
    "## Plot the results"
   ]
  },
  {
   "cell_type": "code",
   "execution_count": null,
   "metadata": {
    "scrolled": true
   },
   "outputs": [],
   "source": [
    "plt1 = plt.figure(1, figsize=(11.7,9))\n",
    "plt.clf()\n",
    "\n",
    "plt.subplot(2,2,1)\n",
    "plt.imshow(dm.target, cmap='bone', vmin=dm.I0.min(), vmax=dm.I0.max())\n",
    "plt.colorbar()\n",
    "plt.title('Target image')\n",
    "\n",
    "plt.subplot(2,2,2)\n",
    "plt.imshow(dm.source, cmap='bone', vmin=dm.I0.min(), vmax=dm.I0.max())\n",
    "plt.colorbar()\n",
    "plt.title('Template image')\n",
    "\n",
    "plt.subplot(2,2,3)\n",
    "plt.imshow(dm.I, cmap='bone', vmin=dm.I0.min(), vmax=dm.I0.max())\n",
    "plt.colorbar()\n",
    "plt.title('Warped image')\n",
    "\n",
    "plt.subplot(2,2,4)\n",
    "use_forward = True\n",
    "if use_forward:\n",
    "    phix = dm.phix\n",
    "    phiy = dm.phiy\n",
    "else:\n",
    "    phix = dm.phiinvx\n",
    "    phiy = dm.phiinvy\n",
    "    \n",
    "plot_warp(phix, phiy, downsample=4)\n",
    "plt.axis('equal')\n",
    "warplim = [phix.min(), phix.max(), phiy.min(), phiy.max()]\n",
    "warplim[0] = min(warplim[0], warplim[2])\n",
    "warplim[2] = warplim[0]\n",
    "warplim[1] = max(warplim[1], warplim[3])\n",
    "warplim[3] = warplim[1]\n",
    "\n",
    "plt.axis(warplim)\n",
    "plt.gca().invert_yaxis()\n",
    "plt.gca().set_aspect('equal')\n",
    "plt.title('Warp')\n",
    "plt.grid()\n",
    "\n",
    "plt3 = plt.figure(3, figsize=(8,4.5))\n",
    "plt.clf()\n",
    "plt.plot(dm.E)\n",
    "plt.grid()\n",
    "plt.ylabel('Energy')\n",
    "\n",
    "plt4 = plt.figure(4, figsize=(10,10))\n",
    "plot_warp(phix, phiy, downsample=4)\n",
    "plt.axis('equal')\n",
    "warplim = [phix.min(), phix.max(), phiy.min(), phiy.max()]\n",
    "warplim[0] = min(warplim[0], warplim[2])\n",
    "warplim[2] = warplim[0]\n",
    "warplim[1] = max(warplim[1], warplim[3])\n",
    "warplim[3] = warplim[1]\n",
    "\n",
    "plt.axis(warplim)\n",
    "plt.gca().invert_yaxis()\n",
    "plt.gca().set_aspect('equal')\n",
    "plt.title('Warp')\n",
    "plt.axis('off')\n"
   ]
  },
  {
   "cell_type": "markdown",
   "metadata": {},
   "source": [
    "### Save the plots"
   ]
  },
  {
   "cell_type": "code",
   "execution_count": null,
   "metadata": {},
   "outputs": [],
   "source": [
    "from matplotlib.transforms import Bbox\n",
    "def full_extent(ax, jac_colorbar, pad=0.0):\n",
    "    \"\"\"Get the full extent of an axes, including axes labels, tick labels, and\n",
    "    titles.\"\"\"\n",
    "    # For text objects, we need to draw the figure first, otherwise the extents\n",
    "    # are undefined.\n",
    "    ax.figure.canvas.draw()\n",
    "    items = ax.get_xticklabels() + ax.get_yticklabels()\n",
    "    items += jac_colorbar.ax.get_xticklabels() + jac_colorbar.ax.get_yticklabels()\n",
    "\n",
    "    #    items += [ax, ax.title, ax.xaxis.label, ax.yaxis.label]\n",
    "    items += [ax, ax.title, jac_colorbar.ax]\n",
    "    bbox = Bbox.union([item.get_window_extent() for item in items])\n",
    "\n",
    "    return bbox.expanded(1.0 + pad, 1.0 + pad)"
   ]
  },
  {
   "cell_type": "code",
   "execution_count": null,
   "metadata": {},
   "outputs": [],
   "source": [
    "# Setup directories and files\n",
    "fig_dir_name = os.path.join(get_dir_name(I0name, I1name, sigma), 'figures')\n",
    "if not os.path.exists(fig_dir_name):\n",
    "    os.makedirs(fig_dir_name)\n",
    "    print(\"Creating directory \" + fig_dir_name)\n",
    "\n",
    "fig = plt.figure(1)\n",
    "plt1.savefig(os.path.join(fig_dir_name,'images.png'), dpi=300, bbox_inches='tight')\n",
    "\n",
    "plt.figure(2)\n",
    "plt.axis('off')\n",
    "plt.title('')\n",
    "plt2.savefig(os.path.join(fig_dir_name,'warp.png'), dpi=150, bbox_inches='tight')\n",
    "\n",
    "plt3.savefig(os.path.join(fig_dir_name,'energy.png'), dpi=150, bbox_inches='tight')"
   ]
  },
  {
   "cell_type": "markdown",
   "metadata": {},
   "source": [
    "# Create images"
   ]
  },
  {
   "cell_type": "code",
   "execution_count": null,
   "metadata": {},
   "outputs": [],
   "source": [
    "import numpy as np\n",
    "from PIL import Image\n",
    "import matplotlib.pyplot as plt\n",
    "%matplotlib inline\n",
    "\n",
    "arr = np.zeros([256,256])\n",
    "arr[30:90,30:60]=np.ones_like(arr[30:90,30:60])*255\n",
    "#arr = gauss(arr,sigma=6)\n",
    "\n",
    "im = Image.fromarray(arr).convert('L')\n",
    "im.save('box_at_1st.png')\n",
    "\n",
    "arr = np.roll(arr,20,axis=0)\n",
    "im = Image.fromarray(arr).convert('L')\n",
    "im.save('box_at_2nd.png')\n",
    "\n",
    "arr = np.roll(arr,20,axis=1)\n",
    "im = Image.fromarray(arr).convert('L')\n",
    "im.save('box_at_3rd.png')\n",
    "\n",
    "im = im.rotate(25)\n",
    "im.save('box_at_4th.png')\n",
    "\n",
    "plt.imshow(im)\n",
    "plt.show()"
   ]
  },
  {
   "cell_type": "code",
   "execution_count": null,
   "metadata": {},
   "outputs": [],
   "source": [
    "import numpy as np\n",
    "import matplotlib.pyplot as plt\n",
    "%matplotlib inline\n",
    "\n",
    "img = np.zeros([256,256])\n",
    "img[30:90,30:60]=np.ones_like(img[30:90,30:60])\n",
    "\n",
    "plt.figure()\n",
    "plt.imshow(img)\n",
    "plt.colorbar()\n",
    "plt.show()\n",
    "\n",
    "img = np.roll(img,100,axis=0)\n",
    "plt.figure()\n",
    "plt.imshow(img)\n",
    "plt.colorbar()\n",
    "plt.show()\n",
    "\n",
    "img = np.roll(img,100,axis=1)\n",
    "plt.figure()\n",
    "plt.imshow(img)\n",
    "plt.colorbar()\n",
    "plt.show()\n",
    "\n",
    "plt.imsave('box_at_2nd.png', img)\n",
    "\n",
    "importedimg = plt.imread('box_at_2nd.png').astype('float')\n",
    "print(importedimg.shape)\n",
    "\n"
   ]
  }
 ],
 "metadata": {
  "kernelspec": {
   "display_name": "Python 3",
   "language": "python",
   "name": "python3"
  },
  "language_info": {
   "codemirror_mode": {
    "name": "ipython",
    "version": 3
   },
   "file_extension": ".py",
   "mimetype": "text/x-python",
   "name": "python",
   "nbconvert_exporter": "python",
   "pygments_lexer": "ipython3",
   "version": "3.7.1"
  }
 },
 "nbformat": 4,
 "nbformat_minor": 1
}
